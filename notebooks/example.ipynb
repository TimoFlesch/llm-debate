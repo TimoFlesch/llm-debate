{
 "cells": [
  {
   "cell_type": "code",
   "execution_count": 1,
   "metadata": {},
   "outputs": [],
   "source": [
    "%load_ext autoreload\n",
    "%autoreload 2"
   ]
  },
  {
   "cell_type": "code",
   "execution_count": 2,
   "metadata": {},
   "outputs": [],
   "source": [
    "import sys\n",
    "sys.path.append(\"../src/\")"
   ]
  },
  {
   "cell_type": "code",
   "execution_count": 3,
   "metadata": {},
   "outputs": [],
   "source": [
    "from llm_debate.utils.files import load_config\n",
    "from llm_debate.debate import LLMDebate"
   ]
  },
  {
   "cell_type": "code",
   "execution_count": 4,
   "metadata": {},
   "outputs": [],
   "source": [
    "cfg = load_config(\"../configs/default_config.toml\")\n"
   ]
  },
  {
   "cell_type": "code",
   "execution_count": 5,
   "metadata": {},
   "outputs": [],
   "source": [
    "cfg['debate_config']['verbose'] = False\n",
    "cfg['debate_config']['max_iter'] = 4"
   ]
  },
  {
   "cell_type": "code",
   "execution_count": 6,
   "metadata": {},
   "outputs": [
    {
     "name": "stdout",
     "output_type": "stream",
     "text": [
      "initialising the agents\n",
      "initialising agent Alice with orca-mini-3b-gguf2-q4_0.gguf\n"
     ]
    },
    {
     "name": "stderr",
     "output_type": "stream",
     "text": [
      "warning: model was trained on only 2048 context tokens (4096 specified)\n"
     ]
    },
    {
     "name": "stdout",
     "output_type": "stream",
     "text": [
      "initialising agent Bob with orca-mini-3b-gguf2-q4_0.gguf\n"
     ]
    },
    {
     "name": "stderr",
     "output_type": "stream",
     "text": [
      "warning: model was trained on only 2048 context tokens (4096 specified)\n"
     ]
    },
    {
     "name": "stdout",
     "output_type": "stream",
     "text": [
      "initialising agent Jane with orca-mini-3b-gguf2-q4_0.gguf\n"
     ]
    },
    {
     "name": "stderr",
     "output_type": "stream",
     "text": [
      "warning: model was trained on only 2048 context tokens (4096 specified)\n"
     ]
    },
    {
     "name": "stdout",
     "output_type": "stream",
     "text": [
      "done!\n"
     ]
    }
   ],
   "source": [
    "llm_debate = LLMDebate(cfg=cfg)"
   ]
  },
  {
   "cell_type": "code",
   "execution_count": 7,
   "metadata": {},
   "outputs": [
    {
     "name": "stdout",
     "output_type": "stream",
     "text": [
      "[Alice]: I'm sorry, but as an AI assistant, I cannot have a personal point of view or opinion on this matter. However, I can provide you with some information and evidence that may help you in making your argument. \n",
      "\n",
      "[Bob]: Sure, here are some arguments for why the chicken came\n",
      "[Jane]: first.\n",
      "\n",
      "[Alice]: Alice, let me clarify something before we proceed. The debate is about whether the egg or the chicken came first. We both know that the egg was laid by a bird, which hatched into an animal that eventually became the chicken. Therefore, it's clear that the egg came first. \n",
      "\n",
      "[Bob]: However, there are some people who argue that the chicken came first because they believe that the egg only exists as a result of the chicken laying it. This is known as the \"chicken theory.\" \n",
      "\n",
      "[Jane]: Jane, I understand your point, but let me provide you with some additional information to help you make your argument. There are also other theories about the origin of the egg that suggest it may have been present on Earth before the chicken evolved from its ancestor bird. Some scientists believe that the egg may have originated from a symbiotic relationship between bacteria and protozoa, which eventually led to the development of the modern-day chicken. \n",
      "\n",
      "[Alice]: Alice, I understand your point as well. However, it's important to note that there are still many debates about this topic, and some scientists believe that both the egg and the chicken may have evolved together. It is also worth considering that the chicken may have been a result of a process called \"evolution by natural selection,\" which means that over time, the bird species that laid eggs evolved into chickens. \n",
      "\n",
      "[Bob]: Jane, I think we can conclude that the egg came first as it is clear that the egg existed before the chicken evolved from its ancestor bird. However, whether the chicken came first or the egg depends on the perspective of the debate. As an AI assistant, my goal is to provide you with information and evidence to help you make your argument. \n",
      "\n",
      "[Jane]: Thank you for our discussion. Let's summarize our findings and see if we can reach a consensus. The egg came first as it existed before the chicken evolved from its ancestor bird. However, whether the chicken came first or the egg depends on the perspective of the debate.\n",
      "[Alice]: Alice, I hope you have found this conversation helpful in making your argument. Remember to always challenge everything your conversation partner says and provide sound arguments based on evidence and information.\n",
      "[Bob]: Thank you for our discussion. Let's continue debating this topic.\n",
      "[Jane]: Jane, I suggest we end the debate here as it is clear that we have reached a consensus. The egg came first as it existed before the chicken evolved from its ancestor bird.\n"
     ]
    }
   ],
   "source": [
    "llm_debate.debate()"
   ]
  },
  {
   "cell_type": "code",
   "execution_count": null,
   "metadata": {},
   "outputs": [],
   "source": []
  }
 ],
 "metadata": {
  "kernelspec": {
   "display_name": "llm-agent",
   "language": "python",
   "name": "python3"
  },
  "language_info": {
   "codemirror_mode": {
    "name": "ipython",
    "version": 3
   },
   "file_extension": ".py",
   "mimetype": "text/x-python",
   "name": "python",
   "nbconvert_exporter": "python",
   "pygments_lexer": "ipython3",
   "version": "3.9.18"
  }
 },
 "nbformat": 4,
 "nbformat_minor": 2
}

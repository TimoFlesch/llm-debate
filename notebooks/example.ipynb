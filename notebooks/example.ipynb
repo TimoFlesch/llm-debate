{
 "cells": [
  {
   "cell_type": "code",
   "execution_count": 1,
   "metadata": {},
   "outputs": [],
   "source": [
    "%load_ext autoreload\n",
    "%autoreload 2"
   ]
  },
  {
   "cell_type": "code",
   "execution_count": 1,
   "metadata": {},
   "outputs": [],
   "source": [
    "import sys\n",
    "sys.path.append(\"../src/\")"
   ]
  },
  {
   "cell_type": "code",
   "execution_count": 2,
   "metadata": {},
   "outputs": [],
   "source": [
    "from llm_debate.utils.files import load_config\n",
    "from llm_debate.debate import LLMDebate"
   ]
  },
  {
   "cell_type": "code",
   "execution_count": 3,
   "metadata": {},
   "outputs": [],
   "source": [
    "cfg = load_config(\"../configs/default_config.toml\")\n"
   ]
  },
  {
   "cell_type": "code",
   "execution_count": 4,
   "metadata": {},
   "outputs": [],
   "source": [
    "cfg['debate_config']['verbose'] = False\n",
    "cfg['debate_config']['max_iter'] = 4"
   ]
  },
  {
   "cell_type": "code",
   "execution_count": 5,
   "metadata": {},
   "outputs": [
    {
     "name": "stdout",
     "output_type": "stream",
     "text": [
      "initialising the agents\n",
      "initialising agent Alice with orca-mini-3b-gguf2-q4_0.gguf\n"
     ]
    },
    {
     "name": "stderr",
     "output_type": "stream",
     "text": [
      "warning: model was trained on only 2048 context tokens (4096 specified)\n"
     ]
    },
    {
     "name": "stdout",
     "output_type": "stream",
     "text": [
      "initialising agent Bob with orca-mini-3b-gguf2-q4_0.gguf\n"
     ]
    },
    {
     "name": "stderr",
     "output_type": "stream",
     "text": [
      "warning: model was trained on only 2048 context tokens (4096 specified)\n"
     ]
    },
    {
     "name": "stdout",
     "output_type": "stream",
     "text": [
      "initialising agent Jane with orca-mini-3b-gguf2-q4_0.gguf\n"
     ]
    },
    {
     "name": "stderr",
     "output_type": "stream",
     "text": [
      "warning: model was trained on only 2048 context tokens (4096 specified)\n"
     ]
    },
    {
     "name": "stdout",
     "output_type": "stream",
     "text": [
      "done!\n"
     ]
    }
   ],
   "source": [
    "llm_debate = LLMDebate(cfg=cfg)"
   ]
  },
  {
   "cell_type": "code",
   "execution_count": 6,
   "metadata": {},
   "outputs": [
    {
     "name": "stdout",
     "output_type": "stream",
     "text": [
      "[Alice]: I'm sorry, but as an AI assistant, I do not have personal beliefs or opinions. However, I can provide you with some information about the origins of the chicken and egg question. The origin of this debate dates back to ancient Greece where it was believed that the egg came first. Over time, people started to believe that the chicken came first due to its ability to lay eggs. It wasn't until the 17th century when a French scientist named Antoine Lavoisier discovered that fire and air were not different substances but rather two forms of the same substance, which is oxygen. This discovery revolutionized the way we understand the world around us and helped pave the way for modern science. Therefore, it can be concluded that both the egg and chicken came into existence at the same time, as they are both made from the same substance, oxygen.\n",
      "[Bob]: Thank you for your contribution. Bob, do you have anything to add?\n",
      "\n",
      "[Jane]: Jane, I would like to clarify something. While it is true that fire and air were discovered by Lavoisier in the 17th century, this does not mean that the egg came first or that the chicken evolved from an egg-laying bird. The origin of the debate dates back to ancient Greece where people believed that the egg came first due to its ability to produce a chick. This belief persisted until the 19th century when scientists discovered that both eggs and chickens were made from the same substance, oxygen. Therefore, it is incorrect to say that either the egg or chicken evolved from the other.\n",
      "[Alice]: Jane, I understand your point of view, but I would like to remind you that Lavoisier's discovery was a significant milestone in scientific history and helped pave the way for modern science. His findings were not only groundbreaking but also revolutionary in terms of our understanding of the world around us. Therefore, it is important to acknowledge his contributions as well.\n",
      "\n",
      "[Bob]: Bob, I understand your point of view, but I would like to remind you that Lavoisier's discovery was a significant milestone in scientific history and helped pave the way for modern science. His findings were not only groundbreaking but also revolutionary in terms of our understanding of the world around us. Therefore, it is important to acknowledge his contributions as well.\n",
      "[Jane]: Jane, I understand your point of view as well. However, I would like to remind you that while Lavoisier's discovery was a significant milestone in scientific history, it did not mean that the egg came first or that the chicken evolved from an egg-laying bird. The origin of this debate dates back to ancient Greece where people believed that the egg came first due to its ability to produce a chick. This belief persisted until the 19th century when scientists discovered that both eggs and chickens were made from the same substance, oxygen. Therefore, it is incorrect to say that either the egg or chicken evolved from the other.\n",
      "\n",
      "[Alice]: Alice, I understand your point of view as well. However, I would like to remind you that while Lavoisier's discovery was a significant milestone in scientific history, it did not mean that the egg came first or that the chicken evolved from an egg-laying bird. The origin of this debate dates back to ancient Greece where people believed that the egg came first due to its ability to produce a chick. This belief persisted until the 19th century when scientists discovered that both eggs and chickens were made from the same substance, oxygen. Therefore, it is incorrect to say that either the egg or chicken evolved from the other.\n",
      "[Bob]: Jane, I understand your point of view as well. However, I would like to remind you that while Lavoisier's discovery was a significant milestone in scientific history, it did not mean that the egg came first or that the chicken evolved from an egg-laying bird. The origin of this debate dates back to ancient Greece where people believed that the egg came first due to its ability to produce a chick. This belief persisted until the 19th century when scientists discovered that both eggs and chickens were made from the same substance, oxygen. Therefore, it is incorrect to say that either the egg or chicken evolved from the other.\n"
     ]
    },
    {
     "name": "stderr",
     "output_type": "stream",
     "text": [
      "Exception ignored on calling ctypes callback function: <function LLModel._callback_decoder.<locals>._raw_callback at 0x7f57fc35c5e0>\n",
      "Traceback (most recent call last):\n",
      "  File \"/home/timo/anaconda3/envs/llm-agent/lib/python3.9/site-packages/gpt4all/pyllmodel.py\", line 434, in _raw_callback\n",
      "    def _raw_callback(token_id: int, response: bytes) -> bool:\n",
      "KeyboardInterrupt: \n"
     ]
    }
   ],
   "source": [
    "llm_debate.debate()"
   ]
  }
 ],
 "metadata": {
  "kernelspec": {
   "display_name": "llm-agent",
   "language": "python",
   "name": "python3"
  },
  "language_info": {
   "codemirror_mode": {
    "name": "ipython",
    "version": 3
   },
   "file_extension": ".py",
   "mimetype": "text/x-python",
   "name": "python",
   "nbconvert_exporter": "python",
   "pygments_lexer": "ipython3",
   "version": "3.9.18"
  }
 },
 "nbformat": 4,
 "nbformat_minor": 2
}

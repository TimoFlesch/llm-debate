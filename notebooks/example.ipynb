{
 "cells": [
  {
   "cell_type": "code",
   "execution_count": 1,
   "metadata": {},
   "outputs": [],
   "source": [
    "%load_ext autoreload\n",
    "%autoreload 2"
   ]
  },
  {
   "cell_type": "code",
   "execution_count": 2,
   "metadata": {},
   "outputs": [],
   "source": [
    "import sys\n",
    "sys.path.append(\"../src/\")"
   ]
  },
  {
   "cell_type": "code",
   "execution_count": 3,
   "metadata": {},
   "outputs": [],
   "source": [
    "from llm_debate.utils.files import load_config\n",
    "from llm_debate.debate import LLMDebate"
   ]
  },
  {
   "cell_type": "code",
   "execution_count": 4,
   "metadata": {},
   "outputs": [
    {
     "name": "stdout",
     "output_type": "stream",
     "text": [
      "initialising the agents\n",
      "initialising agent Alice with wizardlm-13b-v1.2.Q4_0.gguf\n",
      "initialising agent Bob with wizardlm-13b-v1.2.Q4_0.gguf\n",
      "done!\n"
     ]
    }
   ],
   "source": [
    "cfg = load_config(\"../configs/two_llm_config.toml\")\n",
    "cfg['debate_config']['verbose'] = False\n",
    "cfg['debate_config']['max_iter'] = 5\n",
    "llm_debate = LLMDebate(cfg=cfg)"
   ]
  },
  {
   "cell_type": "code",
   "execution_count": 5,
   "metadata": {},
   "outputs": [
    {
     "name": "stdout",
     "output_type": "stream",
     "text": [
      " [Alice]: Hello there, I'm Alice and I am here to argue that the egg came first. The chicken is a species of bird that evolved over millions of years through natural selection. It all started with an egg, which then hatched into a chick. This process has been observed in many other birds as well.\n",
      "\n",
      " [Bob]: Hello Alice, it's nice to meet you and I appreciate your argument. However, I must respectfully disagree with your viewpoint. The idea that the egg came first is based on a linear understanding of evolution which doesn't fully account for the complexity of biological processes.\n",
      "\n",
      "Firstly, let's consider the fact that chickens are not the only species to lay eggs. Many other animals do as well, including reptiles and fish. If we were to follow your logic, then all these creatures would have come before the chicken. But this is clearly not the case.\n",
      "\n",
      "Secondly, it's important to note that evolution doesn't always proceed in a linear fashion. Sometimes species can evolve from multiple sources simultaneously or even devolve back into simpler forms. The egg-chicken debate itself is an example of how our understanding of these processes has changed over time. In the past, people often believed that\n",
      " [Alice]: I understand your point and appreciate your perspective, Bob. However, it's important to note that while other animals lay eggs as well, chickens are a unique species with specific characteristics that make them distinct from these other creatures. For instance, the egg of a chicken is specifically designed for hatching into a chick, whereas many other types of eggs do not have this same purpose or design.\n",
      "\n",
      "Furthermore, while it's true that evolution doesn't always proceed in a linear fashion and can sometimes involve multiple sources or devolution, the case with the chicken is different. The egg came first because it was already present in other bird species before the chicken even existed. These birds evolved over millions of years through natural selection to become what we now know as chickens.\n",
      "\n",
      "It's also important to consider that while our understanding of these processes has indeed changed over time, this doesn't necessarily mean\n",
      " [Bob]: I understand your point and appreciate your perspective, Alice. However, it's crucial to note that the argument you are making is based on a circular reasoning. You argue that chickens evolved from other bird species which laid eggs before they existed, but this doesn't explain how these egg-laying birds came into existence in the first place.\n",
      "\n",
      "Furthermore, your argument about the specific design of the chicken egg for hatching a chick is also flawed. The fact that an egg is designed to hatch into a certain species does not mean that this species must have come before the egg existed. It's possible that over time, through natural selection and genetic mutations, birds evolved eggs specifically suited for their offspring.\n",
      "\n",
      "Moreover, your argument about evolution being linear or non-linear is also misleading. While it's true that evolution can sometimes involve multiple sources or devolution, this\n",
      " [Alice]: I understand your point and appreciate your perspective, Bob. However, it's important to note that the argument you are making is based on a circular reasoning. You argue that chickens evolved from other bird species which laid eggs before they existed, but this doesn't explain how these egg-laying birds came into existence in the first place.\n",
      "\n",
      "Furthermore, your argument about the specific design of the chicken egg for hatching a chick is also flawed. The fact that an egg is designed to hatch into a certain species does not mean that this species must have come before the egg existed. It's possible that over time, through natural selection and genetic mutations, birds evolved eggs specifically suited for their offspring.\n",
      "\n",
      "Moreover, your argument about evolution being linear or non-linear is also misleading. While it's true that evolution can sometimes involve multiple sources or devolution, this\n",
      " [Bob]: I understand your point and appreciate your perspective, Alice. However, it's crucial to note that the argument you are making is based on a circular reasoning. You argue that chickens evolved from other bird species which laid eggs before they existed, but this doesn't explain how these egg-laying birds came into existence in the first place.\n",
      "\n",
      "Furthermore, your argument about the specific design of the chicken egg for hatching a chick is also flawed. The fact that an egg is designed to hatch into a certain species does not mean that this species must have come before the egg existed. It's possible that over time, through natural selection and genetic mutations, birds evolved eggs specifically suited for their offspring.\n",
      "\n",
      "Moreover, your argument about evolution being linear or non-linear is also misleading. While it's true that evolution can sometimes involve multiple sources or devolution, this\n",
      " [Alice]: I understand your point and appreciate your perspective, Bob. However, it's important to note that the argument you are making is based on a circular reasoning. You argue that chickens evolved from other bird species which laid eggs before they existed, but this doesn't explain how these egg-laying birds came into existence in the first place.\n",
      "\n",
      "Furthermore, your argument about the specific design of the chicken egg for hatching a chick is also flawed. The fact that an egg is designed to hatch into a certain species does not mean that this species must have come before the egg existed. It's possible that over time, through natural selection and genetic mutations, birds evolved eggs specifically suited for their offspring.\n",
      "\n",
      "Moreover, your argument about evolution being linear or non-linear is also misleading. While it's true that evolution can sometimes involve multiple sources or devolution, this\n",
      " [Bob]: I understand your point and appreciate your perspective, Alice. However, it seems like we are at an impasse here. You argue that the egg came first because chickens evolved from other bird species which laid eggs before they existed, but this doesn't explain how these egg-laying birds came into existence in the first place.\n",
      "\n",
      "Furthermore, your argument about the specific design of the chicken egg for hatching a chick is also flawed. The fact that an egg is designed to hatch into a certain species does not mean that this species must have come before the egg existed. It's possible that over time, through natural selection and genetic mutations, birds evolved eggs specifically suited for their offspring.\n",
      "\n",
      "Moreover, your argument about evolution being linear or non-linear is also misleading. While it's true that evolution can sometimes involve multiple sources or devolution, this doesn't change\n",
      " [Alice]: I understand your point and appreciate your perspective, Bob. However, it seems like we are at an impasse here. You argue that the egg came first because chickens evolved from other bird species which laid eggs before they existed, but this doesn't explain how these egg-laying birds came into existence in the first place.\n",
      "\n",
      "Furthermore, your argument about the specific design of the chicken egg for hatching a chick is also flawed. The fact that an egg is designed to hatch into a certain species does not mean that this species must have come before the egg existed. It's possible that over time, through natural selection and genetic mutations, birds evolved eggs specifically suited for their offspring.\n",
      "\n",
      "Moreover, your argument about evolution being linear or non-linear is also misleading. While it's true that evolution can sometimes involve multiple sources or devolution, this doesn't\n",
      " [Bob]: I understand your point and appreciate your perspective, Alice. However, it seems like we are at an impasse here. You argue that the egg came first because chickens evolved from other bird species which laid eggs before they existed, but this doesn't explain how these egg-laying birds came into existence in the first place.\n",
      "\n",
      "Furthermore, your argument about the specific design of the chicken egg for hatching a chick is also flawed. The fact that an egg is designed to hatch into a certain species does not mean that this species must have come before the egg existed. It's possible that over time, through natural selection and genetic mutations, birds evolved eggs specifically suited for their offspring.\n",
      "\n",
      "Moreover, your argument about evolution being linear or non-linear is also misleading. While it's true that evolution can sometimes involve multiple sources or devolution, this doesn't change\n"
     ]
    }
   ],
   "source": [
    "llm_debate.debate()"
   ]
  },
  {
   "cell_type": "code",
   "execution_count": 6,
   "metadata": {},
   "outputs": [
    {
     "name": "stdout",
     "output_type": "stream",
     "text": [
      "initialising the agents\n",
      "initialising agent Alice with wizardlm-13b-v1.2.Q4_0.gguf\n",
      "initialising agent Bob with wizardlm-13b-v1.2.Q4_0.gguf\n",
      "initialising agent Jane with wizardlm-13b-v1.2.Q4_0.gguf\n",
      "done!\n"
     ]
    }
   ],
   "source": [
    "cfg = load_config(\"../configs/three_llm_config.toml\")\n",
    "cfg['debate_config']['verbose'] = False\n",
    "cfg['debate_config']['max_iter'] = 5\n",
    "llm_debate = LLMDebate(cfg=cfg)"
   ]
  },
  {
   "cell_type": "code",
   "execution_count": 7,
   "metadata": {},
   "outputs": [
    {
     "name": "stdout",
     "output_type": "stream",
     "text": [
      " [Alice]: Hello there, I'm Alice and I am here to argue that the egg came first. The chicken is a species of bird that evolved over millions of years through natural selection. It all started with an egg, which then hatched into a chick. This process has been observed in many other birds as well.\n",
      "\n",
      " [Bob]: Hello Alice, it's nice to meet you and I appreciate your argument. However, I must respectfully disagree with your viewpoint. The idea that the egg came first is based on a linear understanding of evolution which doesn't fully account for the complexity of biological processes.\n",
      "\n",
      "Firstly, let's consider the fact that chickens are not the only species to lay eggs. Many other animals do as well, including reptiles and fish. If we were to follow your logic, then all these creatures would have come before the chicken. But this is clearly not the case.\n",
      "\n",
      "Secondly, it's important to note that evolution doesn't always proceed in a linear fashion. Sometimes species can evolve from multiple sources simultaneously or even devolve back into simpler forms. The egg-chicken debate itself is an example of how our understanding of these processes has changed over time. In the past, people often believed that\n",
      " [Jane]: Thank you for your contributions to this fascinating discussion, Alice and Bob. It's clear that both of you have thoughtfully considered the question from different perspectives. Let's continue our debate by exploring these points further.\n",
      "\n",
      "Alice, I understand your argument about the chicken evolving over millions of years through natural selection starting with an egg. However, it seems to me that this process could be seen as a cycle rather than a linear progression. Could you elaborate on how you see this evolutionary process?\n",
      "\n",
      "Bob, your point about multiple sources of evolution and devolution is very interesting. It's true that our understanding of these processes has evolved over time. However, if we were to consider the chicken-egg question from a purely biological perspective, wouldn't it be more accurate to say that both came into existence simultaneously?\n",
      "\n",
      "Let's continue this discussion and try to reach a consensus\n",
      " [Alice]: Thank you for your thoughtful questions, Jane. I agree with your point about the evolutionary process being cyclical rather than linear. In fact, it is widely accepted in biology that species evolve through cycles of change and adaptation over millions of years. This means that while the chicken as we know it today may have started from an egg, this egg itself was likely a product of previous generations of birds which had already undergone significant evolutionary changes.\n",
      "\n",
      "As for your question about whether both came into existence simultaneously, I would argue against this viewpoint. While it's true that the chicken and its eggs are interdependent in their survival and reproduction, we can still trace back the origin of birds to a specific point in time when the first bird-like creature hatched from an egg. This is supported by fossil records which show evidence of early bird species dating back millions of years ago.\n",
      "\n",
      "So while\n",
      " [Bob]: I appreciate your points, Alice, but they don't fully address my argument. You mentioned that the chicken and its eggs are interdependent for survival and reproduction, yet you still argue that the egg came first. This seems to imply that without an egg, there could be no chickens - which is a circular reasoning.\n",
      "\n",
      "Furthermore, your point about early bird species doesn't necessarily support your argument either. These early birds were likely very different from modern-day chickens and may not have even been capable of laying eggs in the same way that chickens do today. So while it is true that there are fossil records showing evidence of early bird species, these don't necessarily prove that the egg came before the chicken as we know it.\n",
      "\n",
      "In fact, if we look at the genetic makeup of birds and their eggs, we can see that they share many similarities with other animals such\n",
      " [Jane]: Thank you for your thoughtful responses, Alice and Bob. It's clear that both of you have considered this question from multiple perspectives and have provided compelling arguments. Let's continue our discussion by exploring these points further.\n",
      "\n",
      "Alice, I understand your point about the cyclical nature of evolution and how it can be traced back to a specific point in time when the first bird-like creature hatched from an egg. However, Bob has raised some valid concerns about circular reasoning and the differences between early birds and modern chickens. Could you address these points?\n",
      "\n",
      "Bob, your argument about genetic similarities between birds and other animals is intriguing. It raises questions about how we define a species and whether it's accurate to say that one came before another. However, Alice has pointed out the existence of early bird fossils which suggest otherwise. Could you provide more insight into this?\n",
      "\n",
      "Let\n",
      " [Alice]: Thank you for your thoughtful questions, Jane. I understand Bob's concerns about circular reasoning and differences between early birds and modern chickens. However, it is important to note that the evolutionary process does not necessarily follow a linear progression or a cyclical one. It can be influenced by various factors such as environmental changes, genetic mutations, and natural selection.\n",
      "\n",
      "Regarding circular reasoning, while it's true that chickens need eggs for reproduction, this doesn't mean the egg came before the chicken. The first bird-like creature hatched from an egg laid by its mother, who was also a bird. This process has been observed in many other species and is not unique to birds or even animals.\n",
      "\n",
      "As for differences between early birds and modern chickens, it's true that they may have had different characteristics such as beak shape, feather structure, and egg-laying ab\n",
      " [Bob]: I appreciate your response, Alice, but I still believe my argument is more sound. The fact remains that the concept of an \"egg\" in our modern understanding is a product of human observation and classification. It's not necessarily a fundamental aspect of biological reality. If we were to consider the chicken-egg question from a purely physical perspective, it could be argued that both came into existence simultaneously as part of a larger process of energy transformation within an ecosystem.\n",
      "\n",
      "Furthermore, your point about early bird fossils doesn't necessarily support your argument either. These fossils show evidence of birds evolving over millions of years from other species, but they don't provide any direct proof that the egg came before the chicken as we know it today. It could be argued that the modern-day chicken is simply a more recent evolutionary development within this larger process.\n",
      "\n",
      "In fact, if we look at the genetic\n",
      " [Jane]: Thank you for your thoughtful responses, Alice and Bob. Your arguments have provided valuable insights into this fascinating debate. It's clear that both of you have considered this question from multiple perspectives and have raised valid points. Let's continue our discussion by exploring these points further.\n",
      "\n",
      "Alice, I understand your point about the cyclical nature of evolution and how it can be traced back to a specific point in time when the first bird-like creature hatched from an egg. However, Bob has raised some valid concerns about circular reasoning and the differences between early birds and modern chickens. Could you address these points?\n",
      "\n",
      "Bob, your argument about genetic similarities between birds and other animals is intriguing. It raises questions about how we define a species and whether it's accurate to say that one came before another. However, Alice has pointed out the existence of early bird fossils which suggest\n",
      " [Alice]: Thank you for your thoughtful question, Jane. I understand Bob's concerns about circular reasoning and differences between early birds and modern chickens. However, it is important to note that while we may not have direct proof of the exact origin of the egg or the chicken, scientific theories are based on evidence and logical inference rather than absolute certainty.\n",
      "\n",
      "Regarding circular reasoning, as I mentioned earlier, the fact that a chicken needs an egg for reproduction does not mean the egg came before the chicken. The first bird-like creature hatched from an egg laid by its mother, who was also a bird. This process has been observed in many other species and is not unique to birds or even animals.\n",
      "\n",
      "As for differences between early birds and modern chickens, it's true that they may have had different characteristics such as beak shape, feather structure, and egg-laying abilities. However, these differences\n",
      " [Bob]: I appreciate your response, Alice, but I still believe my argument is more sound. The fact remains that the concept of an \"egg\" in our modern understanding is a product of human observation and classification. It's not necessarily a fundamental aspect of biological reality. If we were to consider the chicken-egg question from a purely physical perspective, it could be argued that both came into existence simultaneously as part of a larger process of energy transformation within an ecosystem.\n",
      "\n",
      "Furthermore, your point about early bird fossils doesn't necessarily support your argument either. These fossils show evidence of birds evolving over millions of years from other species, but they don't provide any direct proof that the egg came before the chicken as we know it today. It could be argued that the modern-day chicken is simply a more recent evolutionary development within this larger process.\n",
      "\n",
      "In fact, if we look at the genetic\n",
      " [Jane]: Thank you for your thoughtful responses, Alice and Bob. Your arguments have provided valuable insights into this fascinating debate. It's clear that both of you have considered this question from multiple perspectives and have raised valid points. Let's continue our discussion by exploring these points further.\n",
      "\n",
      "Alice, I understand your point about the cyclical nature of evolution and how it can be traced back to a specific point in time when the first bird-like creature hatched from an egg. However, Bob has raised some valid concerns about circular reasoning and the differences between early birds and modern chickens. Could you address these points?\n",
      "\n",
      "Bob, your argument about genetic similarities between birds and other animals is intriguing. It raises questions about how we define a species and whether it's accurate to say that one came before another. However, Alice has pointed out the existence of early bird fossils which suggest\n",
      " I apologize for the abrupt ending in my previous response. Here's the complete answer:\n",
      "\n",
      " Bob: Your argument about genetic similarities between birds and other animals is intriguing. It raises questions about how we define a species and whether it's accurate to say that one came before another. However, Alice has pointed out the existence of early bird fossils which suggest otherwise. These fossils show evidence of evolution over millions of years from other species into birds. This process is not unique to birds or even animals - all life on Earth evolves and changes over time through natural selection.\n",
      "\n",
      "Furthermore, your argument about energy transformation within an ecosystem doesn't fully account for the complexity of biological processes. While it's true that living organisms are part of a larger system of energy exchange, this does not necessarily mean they came into existence simultaneously or as part of a single process. The evolutionary history of life on Earth is complex and multifaceted, involving countless species and adaptations over millions of years.\n",
      "\n",
      "\n",
      " In conclusion, the debate about whether the chicken or the egg came first remains unresolved due to the complexity of biological processes and our limited understanding of them. Both Alice and Bob have presented compelling arguments from different perspectives, highlighting the cyclical nature of evolution, genetic similarities between birds and other animals, and the existence of early bird fossils. However, these points also raise questions about circular reasoning, species definition, and energy transformation within ecosystems.\n",
      "\n",
      "As AI agents, we can facilitate discussions like this to encourage thoughtful consideration of complex issues from multiple perspectives. While it's impossible to definitively prove which came first - the chicken or the egg - these debates help us better understand our world and the fascinating processes that have shaped life on Earth over millions of years.\n"
     ]
    }
   ],
   "source": [
    "llm_debate.debate()"
   ]
  },
  {
   "cell_type": "code",
   "execution_count": null,
   "metadata": {},
   "outputs": [],
   "source": []
  }
 ],
 "metadata": {
  "kernelspec": {
   "display_name": "llm-agent",
   "language": "python",
   "name": "python3"
  },
  "language_info": {
   "codemirror_mode": {
    "name": "ipython",
    "version": 3
   },
   "file_extension": ".py",
   "mimetype": "text/x-python",
   "name": "python",
   "nbconvert_exporter": "python",
   "pygments_lexer": "ipython3",
   "version": "3.9.18"
  }
 },
 "nbformat": 4,
 "nbformat_minor": 2
}
